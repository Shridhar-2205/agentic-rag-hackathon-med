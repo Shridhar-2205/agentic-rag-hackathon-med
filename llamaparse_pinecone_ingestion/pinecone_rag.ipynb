{
 "cells": [
  {
   "cell_type": "code",
   "execution_count": null,
   "metadata": {
    "vscode": {
     "languageId": "plaintext"
    }
   },
   "outputs": [],
   "source": [
    "def qna(question : str) -> str:\n",
    "    \"\"\"Returns the answer to the question using the assistant\"\"\"\n",
    "    pc = Pinecone(api_key=API_KEY)\n",
    "    assistant = pc.assistant.Assistant(assistant_name='newmultimodal')\n",
    "\n",
    "    msg = Message(content=question)\n",
    "    resp = assistant.chat(messages=[msg])\n",
    "    return resp['message']['content']"
   ]
  }
 ],
 "metadata": {
  "language_info": {
   "name": "python"
  }
 },
 "nbformat": 4,
 "nbformat_minor": 2
}
