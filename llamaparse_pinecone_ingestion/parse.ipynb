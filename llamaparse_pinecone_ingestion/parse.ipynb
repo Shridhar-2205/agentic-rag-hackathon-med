{
 "cells": [
  {
   "cell_type": "code",
   "execution_count": null,
   "metadata": {
    "vscode": {
     "languageId": "plaintext"
    }
   },
   "outputs": [],
   "source": [
    "# bring in our LLAMA_CLOUD_API_KEY\n",
    "from dotenv import load_dotenv\n",
    "load_dotenv()\n",
    "\n",
    "# bring in deps\n",
    "from llama_parse import LlamaParse\n",
    "from llama_index.core import SimpleDirectoryReader\n",
    "\n",
    "# set up parser\n",
    "parser = LlamaParse(\n",
    "    result_type=\"text\"  # \"markdown\" and \"text\" are available\n",
    ")\n",
    "\n",
    "# use SimpleDirectoryReader to parse our file\n",
    "file_extractor = {\".pdf\": parser}\n",
    "documents = SimpleDirectoryReader(input_files=['data/soap.pdf'], file_extractor=file_extractor).load_data()\n",
    "print(documents)"
   ]
  },
  {
   "cell_type": "code",
   "execution_count": null,
   "metadata": {
    "vscode": {
     "languageId": "plaintext"
    }
   },
   "outputs": [],
   "source": [
    "# one extra dep\n",
    "from llama_index.core import VectorStoreIndex\n",
    "\n",
    "# create an index from the parsed markdown\n",
    "index = VectorStoreIndex.from_documents(documents)\n",
    "\n",
    "# create a query engine for the index\n",
    "query_engine = index.as_query_engine()\n",
    "\n",
    "# query the engine\n",
    "query = \"...\"\n",
    "response = query_engine.query(query)\n",
    "print(response)"
   ]
  }
 ],
 "metadata": {
  "language_info": {
   "name": "python"
  }
 },
 "nbformat": 4,
 "nbformat_minor": 2
}
