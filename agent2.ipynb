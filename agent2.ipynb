{
 "cells": [
  {
   "cell_type": "code",
   "execution_count": 65,
   "metadata": {},
   "outputs": [],
   "source": [
    "from langchain_ollama import ChatOllama\n",
    "from langchain.agents import tool\n",
    "from langchain_core.prompts import ChatPromptTemplate, MessagesPlaceholder\n",
    "from langchain.agents.format_scratchpad.openai_tools import (\n",
    "    format_to_openai_tool_messages,\n",
    ")\n",
    "from langchain.agents import AgentExecutor\n",
    "from langchain.agents.output_parsers.openai_tools import OpenAIToolsAgentOutputParser\n",
    "from langchain_community.tools.tavily_search import TavilySearchResults\n",
    "from langchain_core.prompts import ChatPromptTemplate\n",
    "import os\n",
    "\n",
    "from llama_index.readers.papers import PubmedReader\n",
    "import json\n",
    "\n",
    "\n",
    "\n"
   ]
  },
  {
   "cell_type": "code",
   "execution_count": 66,
   "metadata": {},
   "outputs": [],
   "source": [
    "llm = ChatOllama(\n",
    "            model=\"llama3.2\",\n",
    "            temperature=0,\n",
    "            verbose=True\n",
    "        )"
   ]
  },
  {
   "cell_type": "code",
   "execution_count": 67,
   "metadata": {},
   "outputs": [],
   "source": [
    "@tool\n",
    "def get_articles(disease_name):\n",
    "    \"\"\"This tool fetches articles from pubmed for a given disease name\"\"\"\n",
    "    loader = PubmedReader()\n",
    "    text_list = []\n",
    "    page_title = []\n",
    "    journal_title = []\n",
    "    url_list = []\n",
    "    map_data = []\n",
    "    \n",
    "    documents = loader.load_data(search_query=disease_name, max_results=4)\n",
    "    for doc in documents:\n",
    "      text_list.append(doc.text)\n",
    "      page_title.append(doc.metadata['Title of this paper'])\n",
    "      journal_title.append(doc.metadata['Journal it was published in:'])\n",
    "      url_list.append(doc.metadata['URL'])\n",
    "      map_data.append({\"title\": doc.metadata['Title of this paper'], \"journal\": doc.metadata['Journal it was published in:'], \"url\": doc.metadata['URL']})\n",
    "      \n",
    "    \n",
    "    return map_data\n",
    "\n",
    "tools = [get_articles]"
   ]
  },
  {
   "cell_type": "code",
   "execution_count": 68,
   "metadata": {},
   "outputs": [],
   "source": [
    "prompt = ChatPromptTemplate.from_messages(\n",
    "            [\n",
    "                (\n",
    "                    \"system\",\n",
    "                    \"just use the {input} and give the url, title and journal of the articles based on the tool function response, format it in readable format and title of the response should be 'Articles on {input}', avoid notes and other unnecessary information\",\n",
    "                ),\n",
    "                (\"user\", \"{input}\"),\n",
    "                MessagesPlaceholder(variable_name=\"agent_scratchpad\"),\n",
    "            ]\n",
    "        )"
   ]
  },
  {
   "cell_type": "code",
   "execution_count": 69,
   "metadata": {},
   "outputs": [
    {
     "name": "stdout",
     "output_type": "stream",
     "text": [
      "\n",
      "\n",
      "\u001b[1m> Entering new AgentExecutor chain...\u001b[0m\n",
      "\u001b[32;1m\u001b[1;3m\n",
      "Invoking: `get_articles` with `{'disease_name': 'Hypertension'}`\n",
      "\n",
      "\n",
      "\u001b[0mhttps://eutils.ncbi.nlm.nih.gov/entrez/eutils/efetch.fcgi?id=11469939&db=pmc\n",
      "https://eutils.ncbi.nlm.nih.gov/entrez/eutils/efetch.fcgi?id=11469938&db=pmc\n",
      "https://eutils.ncbi.nlm.nih.gov/entrez/eutils/efetch.fcgi?id=11469930&db=pmc\n",
      "https://eutils.ncbi.nlm.nih.gov/entrez/eutils/efetch.fcgi?id=11469926&db=pmc\n",
      "\u001b[36;1m\u001b[1;3m[{'title': 'Cost-effectiveness of Azvudine for High-risk Outpatients with Mild-to-moderate Coronavirus Disease 2019 in China', 'journal': 'Infection and Drug Resistance', 'url': 'https://www.ncbi.nlm.nih.gov/pmc/articles/PMC11469939/'}, {'title': 'Targeting fibrosis, mechanisms and cilinical trials', 'journal': 'Physiological Reports', 'url': 'https://www.ncbi.nlm.nih.gov/pmc/articles/PMC11469938/'}, {'title': 'Complication Avoidance and Management in Ambulatory Spine Surgery', 'journal': 'Case Reports in Surgery', 'url': 'https://www.ncbi.nlm.nih.gov/pmc/articles/PMC11469930/'}, {'title': 'Monomorphous Plurihormonal Pituitary Adenoma of Pit-1 Lineage in a Giant Adolescent With Central Hyperthyroidism', 'journal': 'Case Reports in Endocrinology', 'url': 'https://www.ncbi.nlm.nih.gov/pmc/articles/PMC11469926/'}]\u001b[0m\u001b[32;1m\u001b[1;3mArticles on Hypertension\n",
      "\n",
      "1. Cost-effectiveness of Azvudine for High-risk Outpatients with Mild-to-moderate Coronavirus Disease 2019 in China\n",
      "   Journal: Infection and Drug Resistance\n",
      "   URL: https://www.ncbi.nlm.nih.gov/pmc/articles/PMC11469939/\n",
      "\n",
      "2. Targeting fibrosis, mechanisms and cilinical trials\n",
      "   Journal: Physiological Reports\n",
      "   URL: https://www.ncbi.nlm.nih.gov/pmc/articles/PMC11469938/\n",
      "\n",
      "3. Complication Avoidance and Management in Ambulatory Spine Surgery\n",
      "   Journal: Case Reports in Surgery\n",
      "   URL: https://www.ncbi.nlm.nih.gov/pmc/articles/PMC11469930/\n",
      "\n",
      "4. Monomorphous Plurihormonal Pituitary Adenoma of Pit-1 Lineage in a Giant Adolescent With Central Hyperthyroidism\n",
      "   Journal: Case Reports in Endocrinology\n",
      "   URL: https://www.ncbi.nlm.nih.gov/pmc/articles/PMC11469926/\u001b[0m\n",
      "\n",
      "\u001b[1m> Finished chain.\u001b[0m\n",
      "Articles on Hypertension\n",
      "\n",
      "1. Cost-effectiveness of Azvudine for High-risk Outpatients with Mild-to-moderate Coronavirus Disease 2019 in China\n",
      "   Journal: Infection and Drug Resistance\n",
      "   URL: https://www.ncbi.nlm.nih.gov/pmc/articles/PMC11469939/\n",
      "\n",
      "2. Targeting fibrosis, mechanisms and cilinical trials\n",
      "   Journal: Physiological Reports\n",
      "   URL: https://www.ncbi.nlm.nih.gov/pmc/articles/PMC11469938/\n",
      "\n",
      "3. Complication Avoidance and Management in Ambulatory Spine Surgery\n",
      "   Journal: Case Reports in Surgery\n",
      "   URL: https://www.ncbi.nlm.nih.gov/pmc/articles/PMC11469930/\n",
      "\n",
      "4. Monomorphous Plurihormonal Pituitary Adenoma of Pit-1 Lineage in a Giant Adolescent With Central Hyperthyroidism\n",
      "   Journal: Case Reports in Endocrinology\n",
      "   URL: https://www.ncbi.nlm.nih.gov/pmc/articles/PMC11469926/\n"
     ]
    }
   ],
   "source": [
    "llm_with_tools = llm.bind_tools(tools)\n",
    "\n",
    "agent = (\n",
    "    {\n",
    "        \"input\": lambda x: x[\"input\"],\n",
    "        \"agent_scratchpad\": lambda x: format_to_openai_tool_messages(\n",
    "            x[\"intermediate_steps\"]\n",
    "        ),\n",
    "    }\n",
    "    | prompt    \n",
    "    | llm_with_tools\n",
    "    | OpenAIToolsAgentOutputParser()\n",
    ")\n",
    "\n",
    "# Create an agent executor by passing in the agent and tools\n",
    "agent_executor = AgentExecutor(agent=agent, tools=tools, verbose=True)\n",
    "result = agent_executor.invoke({\"input\": \"Hypertension\"})\n",
    "\n",
    "print(result['output'])"
   ]
  }
 ],
 "metadata": {
  "kernelspec": {
   "display_name": "Python 3",
   "language": "python",
   "name": "python3"
  },
  "language_info": {
   "codemirror_mode": {
    "name": "ipython",
    "version": 3
   },
   "file_extension": ".py",
   "mimetype": "text/x-python",
   "name": "python",
   "nbconvert_exporter": "python",
   "pygments_lexer": "ipython3",
   "version": "3.11.6"
  }
 },
 "nbformat": 4,
 "nbformat_minor": 2
}
